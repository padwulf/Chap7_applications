{
 "cells": [
  {
   "cell_type": "code",
   "execution_count": 1,
   "metadata": {},
   "outputs": [
    {
     "name": "stderr",
     "output_type": "stream",
     "text": [
      "Found local copy...\n",
      "Loading...\n",
      "Done!\n"
     ]
    }
   ],
   "source": [
    "import numpy as np\n",
    "import time\n",
    "from sklearn.decomposition import TruncatedSVD\n",
    "from sklearn.decomposition import NMF\n",
    "from scipy.sparse import csr_matrix\n",
    "import matplotlib.pyplot as plt\n",
    "from sklearn.model_selection import train_test_split\n",
    "from sklearn.metrics.pairwise import rbf_kernel\n",
    "from sklearn.metrics import roc_auc_score\n",
    "from sklearn.metrics.pairwise import cosine_similarity\n",
    "import copy\n",
    "from scipy.stats import spearmanr\n",
    "from tdc.multi_pred import PPI\n",
    "data = PPI(name = 'HuRI')\n",
    "#data = data.neg_sample(frac = 1)\n",
    "data = data.get_data()\n"
   ]
  },
  {
   "cell_type": "code",
   "execution_count": 2,
   "metadata": {},
   "outputs": [],
   "source": [
    "data_train, data_test = train_test_split(data, test_size=0.1, shuffle=True)"
   ]
  },
  {
   "cell_type": "code",
   "execution_count": 3,
   "metadata": {},
   "outputs": [],
   "source": [
    "proteins = list(set(data.Protein1_ID).union(set(data.Protein2_ID)))\n",
    "proteins_map = dict(zip(proteins, range(len(proteins))))"
   ]
  },
  {
   "cell_type": "code",
   "execution_count": 4,
   "metadata": {},
   "outputs": [
    {
     "data": {
      "text/plain": [
       "8248"
      ]
     },
     "execution_count": 4,
     "metadata": {},
     "output_type": "execute_result"
    }
   ],
   "source": [
    "len(proteins)"
   ]
  },
  {
   "cell_type": "code",
   "execution_count": 5,
   "metadata": {},
   "outputs": [
    {
     "name": "stdout",
     "output_type": "stream",
     "text": [
      "52369 8248\n"
     ]
    }
   ],
   "source": [
    "print(len(data), len(proteins))"
   ]
  },
  {
   "cell_type": "code",
   "execution_count": 6,
   "metadata": {},
   "outputs": [],
   "source": [
    "Network_train = [[] for i in range(len(proteins))]\n",
    "for i in range(len(data_train)):\n",
    "    p1 = proteins_map[data_train.iloc[i,0]]\n",
    "    p2 = proteins_map[data_train.iloc[i,2]]\n",
    "    \n",
    "    Network_train[p1].append(p2)\n",
    "    Network_train[p2].append(p1)"
   ]
  },
  {
   "cell_type": "code",
   "execution_count": 7,
   "metadata": {},
   "outputs": [],
   "source": [
    "train_pos = np.array([[proteins_map[data_train.iloc[i,0]], proteins_map[data_train.iloc[i,2]], 1] for i in range(len(data_train))])\n",
    "train_pos_sparseM = csr_matrix((train_pos[:,2],(train_pos[:,0],train_pos[:,1])), shape=(len(proteins),len(proteins)))\n",
    "train_pos_sparseM[train_pos[:,1],train_pos[:,0]] = train_pos[:,2] #symmetric\n",
    "#(data, (row_ind, col_ind)"
   ]
  },
  {
   "cell_type": "code",
   "execution_count": 8,
   "metadata": {},
   "outputs": [],
   "source": [
    "np.savetxt(\"train_pos\", train_pos)"
   ]
  },
  {
   "cell_type": "code",
   "execution_count": 9,
   "metadata": {},
   "outputs": [
    {
     "data": {
      "text/plain": [
       "array([0, 1], dtype=int64)"
      ]
     },
     "execution_count": 9,
     "metadata": {},
     "output_type": "execute_result"
    }
   ],
   "source": [
    "np.unique(np.array(train_pos_sparseM.todense()).flatten())"
   ]
  },
  {
   "cell_type": "code",
   "execution_count": 10,
   "metadata": {},
   "outputs": [
    {
     "data": {
      "text/plain": [
       "(0, 0, 0)"
      ]
     },
     "execution_count": 10,
     "metadata": {},
     "output_type": "execute_result"
    }
   ],
   "source": [
    "train_pos_sparseM[575,771], train_pos_sparseM[771,575], train_pos_sparseM[0,0]"
   ]
  },
  {
   "cell_type": "code",
   "execution_count": 11,
   "metadata": {},
   "outputs": [],
   "source": [
    "test_pos = np.array([[proteins_map[data_test.iloc[i,0]], proteins_map[data_test.iloc[i,2]], 1] for i in range(len(data_test))])\n",
    "test_negrandom = np.asarray([np.random.choice(len(proteins), len(data_test)), np.random.choice(len(proteins), len(data_test)), np.zeros(len(data_test))]).transpose().astype(int)\n",
    "test = np.append(test_pos, test_negrandom, axis=0)"
   ]
  },
  {
   "cell_type": "code",
   "execution_count": 12,
   "metadata": {},
   "outputs": [],
   "source": [
    "np.savetxt(\"test\", test)"
   ]
  },
  {
   "cell_type": "code",
   "execution_count": 13,
   "metadata": {},
   "outputs": [],
   "source": [
    "def semantic_train_ising(Network, Jeff, d = 10000, n_iter=100):\n",
    "    n = len(Network)\n",
    "    HDV = np.random.choice([1,-1], size=(n,d))\n",
    "    y_test_true = test[:,2]\n",
    "    y_test_predicted = [cosine_similarity(HDV[test[i,0],:].reshape(1, -1), HDV[test[i,1],:].reshape(1, -1))[0,0] for i in range(len(test))]\n",
    "    auc= roc_auc_score(y_test_true, y_test_predicted)\n",
    "    con = auc\n",
    "    conver = []\n",
    "    for montecarlostep in range(n_iter):\n",
    "        for randomspinselection in range(n):\n",
    "            s = np.random.choice(range(n))\n",
    "            neighbors = Network[s]\n",
    "            dE = 2*HDV[s,:]*Jeff*np.sum(HDV[neighbors,:], axis=0)\n",
    "            dE[dE<0]=-5\n",
    "            Pflip = np.exp(-dE)\n",
    "            HDV[s, np.where(Pflip > np.random.random(d))] *=-1\n",
    "        y_test_true = test[:,2]\n",
    "        y_test_predicted = [cosine_similarity(HDV[test[i,0],:].reshape(1, -1), HDV[test[i,1],:].reshape(1, -1))[0,0] for i in range(len(test))]\n",
    "        auc= roc_auc_score(y_test_true, y_test_predicted)\n",
    "        con_new = auc    \n",
    "        conver.append(con_new)\n",
    "        con = con_new\n",
    "    return HDV , conver"
   ]
  },
  {
   "cell_type": "code",
   "execution_count": 14,
   "metadata": {},
   "outputs": [
    {
     "data": {
      "text/plain": [
       "array([[1009, 1271,    1],\n",
       "       [7838, 2711,    1],\n",
       "       [2097, 6483,    1],\n",
       "       ...,\n",
       "       [6306, 2914,    0],\n",
       "       [8050, 3011,    0],\n",
       "       [8146, 5567,    0]])"
      ]
     },
     "execution_count": 14,
     "metadata": {},
     "output_type": "execute_result"
    }
   ],
   "source": [
    "test"
   ]
  },
  {
   "cell_type": "code",
   "execution_count": 15,
   "metadata": {},
   "outputs": [
    {
     "name": "stdout",
     "output_type": "stream",
     "text": [
      "training time for embedding:  1.7914628505706787 minutes\n",
      "shape of embedded:  (8248, 10000)\n",
      "auc on test set, with prediction cosine similarity of embeddings:  0.8981475320158641\n"
     ]
    },
    {
     "data": {
      "image/png": "[encoded data removed]",
      "text/plain": [
       "<Figure size 432x288 with 1 Axes>"
      ]
     },
     "metadata": {
      "needs_background": "light"
     },
     "output_type": "display_data"
    }
   ],
   "source": [
    "a = time.time()\n",
    "HDV, conver = semantic_train_ising(Network_train, Jeff=0.1, d = 10000, n_iter=10)\n",
    "b = time.time()\n",
    "print('training time for embedding: ', (b-a)/60, 'minutes')\n",
    "print('shape of embedded: ', HDV.shape)\n",
    "plt.plot(conver)\n",
    "\n",
    "y_test_true = test[:,2]\n",
    "y_test_predicted = [cosine_similarity(HDV[test[i,0],:].reshape(1, -1), HDV[test[i,1],:].reshape(1, -1))[0,0] for i in range(len(test))]\n",
    "auc= roc_auc_score(y_test_true, y_test_predicted)\n",
    "\n",
    "print('auc on test set, with prediction cosine similarity of embeddings: ', auc)"
   ]
  },
  {
   "cell_type": "code",
   "execution_count": 16,
   "metadata": {},
   "outputs": [
    {
     "data": {
      "text/plain": [
       "((8248, 10000),\n",
       " array([[ 1, -1,  1, ..., -1,  1, -1],\n",
       "        [ 1,  1,  1, ..., -1, -1,  1],\n",
       "        [ 1,  1, -1, ..., -1, -1, -1],\n",
       "        ...,\n",
       "        [ 1,  1,  1, ..., -1, -1,  1],\n",
       "        [ 1, -1, -1, ...,  1, -1,  1],\n",
       "        [ 1,  1,  1, ..., -1, -1,  1]]))"
      ]
     },
     "execution_count": 16,
     "metadata": {},
     "output_type": "execute_result"
    }
   ],
   "source": [
    "HDV.shape, HDV"
   ]
  },
  {
   "cell_type": "code",
   "execution_count": 17,
   "metadata": {},
   "outputs": [],
   "source": [
    "def calc_E(HDV, Network, Jeff):\n",
    "    E=0\n",
    "    for i in range(HDV.shape[0]):\n",
    "        neighbors = Network[i]\n",
    "        E+=-HDV[i,:]*Jeff*np.sum(HDV[neighbors,:], axis=0)\n",
    "    print(E.shape)\n",
    "    return np.mean(E)/HDV.shape[0]\n",
    "def calc_M(HDV):\n",
    "    return np.mean(np.abs(np.mean(HDV, axis=0)))"
   ]
  },
  {
   "cell_type": "code",
   "execution_count": 25,
   "metadata": {},
   "outputs": [
    {
     "name": "stdout",
     "output_type": "stream",
     "text": [
      "0.001\n",
      "(10000,)\n",
      "0.0018329807108324356\n",
      "(10000,)\n",
      "0.003359818286283781\n",
      "(10000,)\n",
      "0.006158482110660267\n",
      "(10000,)\n",
      "0.011288378916846888\n",
      "(10000,)\n",
      "0.02069138081114789\n",
      "(10000,)\n",
      "0.0379269019073225\n",
      "(10000,)\n",
      "0.06951927961775606\n",
      "(10000,)\n",
      "0.12742749857031335\n",
      "(10000,)\n",
      "0.23357214690901212\n",
      "(10000,)\n",
      "0.42813323987193913\n",
      "(10000,)\n",
      "0.7847599703514607\n",
      "(10000,)\n",
      "1.438449888287663\n",
      "(10000,)\n",
      "2.636650898730358\n",
      "(10000,)\n",
      "4.832930238571752\n",
      "(10000,)\n",
      "8.858667904100823\n",
      "(10000,)\n",
      "16.23776739188721\n",
      "(10000,)\n",
      "29.763514416313193\n",
      "(10000,)\n",
      "54.555947811685144\n",
      "(10000,)\n",
      "100.0\n",
      "(10000,)\n"
     ]
    }
   ],
   "source": [
    "Js = 10**np.linspace(-3,2,20)\n",
    "aucs = []\n",
    "Ms = []\n",
    "Es = []\n",
    "for J in Js:\n",
    "    print(J)\n",
    "    HDV, conver = semantic_train_ising(Network_train, Jeff=J, d = 10000, n_iter=10)\n",
    "\n",
    "    y_test_true = test[:,2]\n",
    "    y_test_predicted = [cosine_similarity(HDV[test[i,0],:].reshape(1, -1), HDV[test[i,1],:].reshape(1, -1))[0,0] for i in range(len(test))]\n",
    "    auc= roc_auc_score(y_test_true, y_test_predicted)\n",
    "\n",
    "    aucs.append(auc)\n",
    "    Ms.append(calc_M(HDV))\n",
    "    Es.append(calc_E(HDV, Network_train, 1))"
   ]
  },
  {
   "cell_type": "code",
   "execution_count": 35,
   "metadata": {},
   "outputs": [
    {
     "name": "stdout",
     "output_type": "stream",
     "text": [
      "0.9012676907226816\n"
     ]
    },
    {
     "data": {
      "image/png": "[encoded data removed]",
      "text/plain": [
       "<Figure size 432x288 with 1 Axes>"
      ]
     },
     "metadata": {
      "needs_background": "light"
     },
     "output_type": "display_data"
    }
   ],
   "source": [
    "fig = plt.plot(Js, aucs, label=\"AUC\")\n",
    "plt.plot(Js, Ms, label=\"M\")\n",
    "plt.plot(Js, -np.array(Es)/8, label=\"-E\")\n",
    "print(max(aucs))\n",
    "plt.xscale(\"log\")\n",
    "plt.legend()\n",
    "plt.savefig(\"phase_transition.png\")"
   ]
  }
 ],
 "metadata": {
  "kernelspec": {
   "display_name": "(my_env)",
   "language": "python",
   "name": "my_env"
  },
  "language_info": {
   "codemirror_mode": {
    "name": "ipython",
    "version": 3
   },
   "file_extension": ".py",
   "mimetype": "text/x-python",
   "name": "python",
   "nbconvert_exporter": "python",
   "pygments_lexer": "ipython3",
   "version": "3.8.2"
  }
 },
 "nbformat": 4,
 "nbformat_minor": 4
}
